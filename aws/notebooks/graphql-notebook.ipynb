{
 "cells": [
  {
   "cell_type": "code",
   "execution_count": 1,
   "id": "bebfb4dc",
   "metadata": {},
   "outputs": [],
   "source": [
    "import json\n",
    "import os.path\n",
    "\n",
    "from uuid import uuid4\n",
    "from datetime import datetime\n",
    "from gql import gql, Client\n",
    "from gql.transport.aiohttp import AIOHTTPTransport\n",
    "from gql.transport.requests import RequestsHTTPTransport\n",
    "\n",
    "import graphql\n",
    "from graphql import get_introspection_query, build_client_schema\n",
    "import requests\n",
    "\n",
    "from csid import CsidUtility\n",
    "from simple_graphql import CoreDataGraphQlClient\n",
    "\n",
    "import pdb"
   ]
  },
  {
   "cell_type": "markdown",
   "id": "d076cd9a",
   "metadata": {},
   "source": [
    "###### Basic Setup"
   ]
  },
  {
   "cell_type": "code",
   "execution_count": 2,
   "id": "5abbff94",
   "metadata": {},
   "outputs": [],
   "source": [
    "environment = 'PRODUCTION'  # or 'PRODUCTION'\n",
    "application_name = 'CoreDataUAT' if environment == 'UAT' else 'CoreData'"
   ]
  },
  {
   "cell_type": "markdown",
   "id": "534959a0",
   "metadata": {},
   "source": [
    "###### Get CSID"
   ]
  },
  {
   "cell_type": "code",
   "execution_count": 3,
   "id": "82e54fd6",
   "metadata": {},
   "outputs": [
    {
     "name": "stdout",
     "output_type": "stream",
     "text": [
      "Reading CSID token from file ./production-csid_token.txt...\n",
      "CSID token has expired, retrieving a new one from the API.\n",
      "Retrieving PRODUCTION CSID token for CoreData from API...\n",
      "CSID Token: eyJhbGciOiJSUzI1NiIsImtpZCI6IjY0QTBFQkI4M0UwMTUwNDFFQkUyQjc3QUQxMDg0REZFOTEwRDc2OUYiLCJ0eXAiOiJKV1QifQ.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.Swp-UvonPguKIEnlnqFw38I3NsjPOfoUwAdU5jy-ZZG2aGibRdYLiqUrvBxqleca6b9y_YwK_YsWX1_TuXzIw595kTqcF1cdWs9woDmPcYj4Py_BIKB1t2TICBKuWUZvinDv7kC3H3bngffnLLvHFbU2cqcRpRfX4W8DgaM6I4Dusui8UWVMAD-7yPqbvIjC7O9xjUCDsujxnLSDpbZjyXjEM4QidUiyNdVfpGdvFZwINbgPBPyzCtw--U-jh9eV0L7SptgaE3OfFX0UOXUnAyiqGs-rBNSNXNCphrVAC7GCeOaMB20ZVnhtHsDMLNO_10e2JecRwLDZRSXlMvZ2UA\n"
     ]
    }
   ],
   "source": [
    "csid_utility = CsidUtility(environment=environment, application_name=application_name)\n",
    "csid_token = csid_utility.get_csid_token()\n",
    "print(f\"CSID Token: {csid_token}\")\n"
   ]
  },
  {
   "cell_type": "markdown",
   "id": "1d55c79a",
   "metadata": {},
   "source": [
    "###### SETUP NETWORK PROXY"
   ]
  },
  {
   "cell_type": "code",
   "execution_count": 4,
   "id": "3aa535aa",
   "metadata": {},
   "outputs": [],
   "source": [
    "proxy_url = \"http://siproxyvip.ad.mlp.com:3128\"\n",
    "headers = {\n",
    "    \"Authorization\": f\"Bearer {csid_token}\",\n",
    "}"
   ]
  },
  {
   "cell_type": "markdown",
   "id": "89aee27c",
   "metadata": {},
   "source": [
    "###### MAIN"
   ]
  },
  {
   "cell_type": "code",
   "execution_count": 5,
   "id": "af9ff3fa",
   "metadata": {},
   "outputs": [
    {
     "name": "stdout",
     "output_type": "stream",
     "text": [
      "Retrieving GraphQL schema...\n",
      "Executing introspection query to retrieve schema...\n",
      "Building client schema from introspection result...\n",
      "Schema retrieval complete.\n",
      "schema <graphql.type.schema.GraphQLSchema object at 0x0000000004272D40>\n"
     ]
    }
   ],
   "source": [
    "gql_client = CoreDataGraphQlClient(environment=environment)\n",
    "schema = gql_client.get_schema(csid_token=csid_token)\n",
    "print('schema', schema)"
   ]
  },
  {
   "cell_type": "code",
   "execution_count": 6,
   "id": "e681cc23",
   "metadata": {},
   "outputs": [
    {
     "data": {
      "text/plain": [
       "\"['__annotations__', '__class__', '__copy__', '__deepcopy__', '__delattr__', '__dict__', '__dir__', '__doc__', '__eq__', '__format__', '__ge__', '__getattribute__', '__gt__', '__hash__', '__init__', '__init_subclass__', '__le__', '__lt__', '__module__', '__ne__', '__new__', '__reduce__', '__reduce_ex__', '__repr__', '__setattr__', '__sizeof__', '__str__', '__subclasshook__', '__weakref__', '_implementations_map', '_sub_type_map', '_validation_errors', 'ast_node', 'description', 'directives', 'extension_ast_nodes', 'extensions', 'get_directive', 'get_implementations', 'get_possible_types', 'get_root_type', 'get_type', 'is_sub_type', 'mutation_type', 'query_type', 'subscription_type', 'to_kwargs', 'type_map', 'validation_errors']\""
      ]
     },
     "execution_count": 6,
     "metadata": {},
     "output_type": "execute_result"
    }
   ],
   "source": [
    "str(dir(schema))"
   ]
  },
  {
   "cell_type": "code",
   "execution_count": 7,
   "id": "e768fe54",
   "metadata": {},
   "outputs": [
    {
     "data": {
      "text/plain": [
       "\"['__annotations__', '__class__', '__copy__', '__delattr__', '__dict__', '__dir__', '__doc__', '__eq__', '__format__', '__ge__', '__getattribute__', '__gt__', '__hash__', '__init__', '__init_subclass__', '__le__', '__lt__', '__module__', '__ne__', '__new__', '__reduce__', '__reduce_ex__', '__repr__', '__setattr__', '__sizeof__', '__str__', '__subclasshook__', '__weakref__', '_fields', '_interfaces', 'ast_node', 'description', 'extension_ast_nodes', 'extensions', 'fields', 'interfaces', 'is_type_of', 'name', 'to_kwargs']\""
      ]
     },
     "execution_count": 7,
     "metadata": {},
     "output_type": "execute_result"
    }
   ],
   "source": [
    "#schema.get_root_type(graphql.language.OperationType.QUERY)\n",
    "#schema.get_root_type(graphql.language.OperationType.MUTATION)\n",
    "#schema.get_root_type(graphql.language.OperationType.SUBSCRIPTION)\n",
    "# Note: CoreData GraphQL API only has QUERY and SUBSCRIPTION (it does not have MUTATION)\n",
    "\n",
    "str(dir(schema.query_type))\n",
    "str(dir(schema.subscription_type))"
   ]
  },
  {
   "cell_type": "code",
   "execution_count": 8,
   "id": "42de3345",
   "metadata": {},
   "outputs": [
    {
     "data": {
      "text/plain": [
       "\"['__class__', '__class_getitem__', '__contains__', '__delattr__', '__delitem__', '__dir__', '__doc__', '__eq__', '__format__', '__ge__', '__getattribute__', '__getitem__', '__gt__', '__hash__', '__init__', '__init_subclass__', '__ior__', '__iter__', '__le__', '__len__', '__lt__', '__ne__', '__new__', '__or__', '__reduce__', '__reduce_ex__', '__repr__', '__reversed__', '__ror__', '__setattr__', '__setitem__', '__sizeof__', '__str__', '__subclasshook__', 'clear', 'copy', 'fromkeys', 'get', 'items', 'keys', 'pop', 'popitem', 'setdefault', 'update', 'values']\""
      ]
     },
     "execution_count": 8,
     "metadata": {},
     "output_type": "execute_result"
    }
   ],
   "source": [
    "str(dir(schema.subscription_type.fields))"
   ]
  },
  {
   "cell_type": "code",
   "execution_count": 9,
   "id": "f1f8c830",
   "metadata": {},
   "outputs": [
    {
     "data": {
      "text/plain": [
       "['AccountDetailHistories',\n",
       " 'AccountDetails',\n",
       " 'AccountHistories',\n",
       " 'AccountPortfolios',\n",
       " 'Accounts',\n",
       " 'AssetServicings',\n",
       " 'CashGroupPnLTags',\n",
       " 'CashPnLTags',\n",
       " 'CashPositionAccounts',\n",
       " 'CashPositionFinalAccounts',\n",
       " 'CashPositionFinalLinkIds',\n",
       " 'CashPositionLinkIds',\n",
       " 'CashPositionPrePostSweepSummaries',\n",
       " 'CashPositionPrePostSweeps',\n",
       " 'Cashflows',\n",
       " 'Confirmations',\n",
       " 'CorporateActionElections',\n",
       " 'CorporateActions',\n",
       " 'DividendAccruals',\n",
       " 'EDSDates',\n",
       " 'EndurPositions',\n",
       " 'ExecutingBrokerCodes',\n",
       " 'FeeCommissionAttributions',\n",
       " 'GenevaCashflows',\n",
       " 'GenevaTrades',\n",
       " 'GenevaTransactions',\n",
       " 'ImaginePositions',\n",
       " 'InternalTransferTransactionIds',\n",
       " 'MurexPositions',\n",
       " 'PortfolioHistories',\n",
       " 'Portfolios',\n",
       " 'PositionAnalytics',\n",
       " 'PositionCashSweepMaps',\n",
       " 'PositionPnLTags',\n",
       " 'PositionSensitivities',\n",
       " 'Positions',\n",
       " 'ProductMapUpdates',\n",
       " 'Products',\n",
       " 'RepoExposures',\n",
       " 'Securities',\n",
       " 'SecurityDetails',\n",
       " 'SecurityHistories',\n",
       " 'SettleDatePositions',\n",
       " 'SettledCashPositionAccounts',\n",
       " 'SettledCashPositionFinalAccounts',\n",
       " 'SettledCashPositionFinalLinkIds',\n",
       " 'SettledCashPositionLinkIds',\n",
       " 'Trades',\n",
       " 'TransactionPnLTags',\n",
       " 'Transactions']"
      ]
     },
     "execution_count": 9,
     "metadata": {},
     "output_type": "execute_result"
    }
   ],
   "source": [
    "sorted(schema.subscription_type.fields.keys())"
   ]
  },
  {
   "cell_type": "code",
   "execution_count": 20,
   "id": "913d6747",
   "metadata": {},
   "outputs": [],
   "source": [
    "graphql_query = \"\"\"\n",
    "query {\n",
    "  Trades(\n",
    "    page: {limit: 10}\n",
    "    where: {\n",
    "      tradeDate: {EQ: \"2025-06-16\"}\n",
    "    }\n",
    "  ) {\n",
    "        select {\n",
    "            tradeDate\n",
    "            source\n",
    "            upstreamPositionId\n",
    "            positionCurrency\n",
    "            security { ric }\n",
    "            account { clearingBrokerCode mainAccountCode }\n",
    "        }\n",
    "    }\n",
    "}\n",
    "\"\"\""
   ]
  },
  {
   "cell_type": "code",
   "execution_count": 21,
   "id": "13bcc672",
   "metadata": {},
   "outputs": [
    {
     "name": "stdout",
     "output_type": "stream",
     "text": [
      "query_result {'Trades': {'select': [{'tradeDate': '2025-06-16', 'source': 'Endur', 'upstreamPositionId': '5644944', 'positionCurrency': 'USD', 'security': {'ric': 'SM65FQ5'}, 'account': {'clearingBrokerCode': 'SGAS', 'mainAccountCode': '075-86851'}}, {'tradeDate': '2025-06-16', 'source': 'Endur', 'upstreamPositionId': '5644944', 'positionCurrency': 'USD', 'security': {'ric': 'SM65FQ5'}, 'account': {'clearingBrokerCode': 'SGAS', 'mainAccountCode': '075-86851'}}, {'tradeDate': '2025-06-16', 'source': 'Endur', 'upstreamPositionId': '5644945', 'positionCurrency': 'USD', 'security': {'ric': 'SZZFQ5'}, 'account': {'clearingBrokerCode': 'SGAS', 'mainAccountCode': '075-86851'}}, {'tradeDate': '2025-06-16', 'source': 'Endur', 'upstreamPositionId': '5644946', 'positionCurrency': 'USD', 'security': {'ric': 'SZZFN5'}, 'account': {'clearingBrokerCode': 'JPSL', 'mainAccountCode': '12575'}}, {'tradeDate': '2025-06-16', 'source': 'Endur', 'upstreamPositionId': '5644946', 'positionCurrency': 'USD', 'security': {'ric': 'SZZFN5'}, 'account': {'clearingBrokerCode': 'JPSL', 'mainAccountCode': '12575'}}, {'tradeDate': '2025-06-16', 'source': 'Endur', 'upstreamPositionId': '5644947', 'positionCurrency': 'USD', 'security': {'ric': 'SZZFQ5'}, 'account': {'clearingBrokerCode': 'SGAS', 'mainAccountCode': '075-86851'}}, {'tradeDate': '2025-06-16', 'source': 'Endur', 'upstreamPositionId': '5644948', 'positionCurrency': 'USD', 'security': {'ric': 'SZZFN5'}, 'account': {'clearingBrokerCode': 'SGAS', 'mainAccountCode': '075-86851'}}, {'tradeDate': '2025-06-16', 'source': 'Endur', 'upstreamPositionId': '5644949', 'positionCurrency': 'USD', 'security': {'ric': 'SZZFN5'}, 'account': {'clearingBrokerCode': 'JPSL', 'mainAccountCode': '12575'}}, {'tradeDate': '2025-06-16', 'source': 'Endur', 'upstreamPositionId': '5644949', 'positionCurrency': 'USD', 'security': {'ric': 'SZZFN5'}, 'account': {'clearingBrokerCode': 'JPSL', 'mainAccountCode': '12575'}}, {'tradeDate': '2025-06-16', 'source': 'Endur', 'upstreamPositionId': '5644950', 'positionCurrency': 'USD', 'security': {'ric': 'SZZFN5'}, 'account': {'clearingBrokerCode': 'SGAS', 'mainAccountCode': '075-86851'}}]}}\n"
     ]
    }
   ],
   "source": [
    "#query_result = gql_client.query(graphql_query, csid_token=csid_token)\n",
    "query_result = await gql_client.query(graphql_query, csid_token=csid_token)\n",
    "print('query_result', query_result)"
   ]
  },
  {
   "cell_type": "code",
   "execution_count": 22,
   "id": "7d7f61d3",
   "metadata": {},
   "outputs": [
    {
     "data": {
      "text/plain": [
       "\"['__annotations__', '__class__', '__copy__', '__delattr__', '__dict__', '__dir__', '__doc__', '__eq__', '__format__', '__ge__', '__getattribute__', '__gt__', '__hash__', '__init__', '__init_subclass__', '__le__', '__lt__', '__module__', '__ne__', '__new__', '__reduce__', '__reduce_ex__', '__repr__', '__setattr__', '__sizeof__', '__str__', '__subclasshook__', '__weakref__', 'args', 'ast_node', 'deprecation_reason', 'description', 'extensions', 'resolve', 'subscribe', 'to_kwargs', 'type']\""
      ]
     },
     "execution_count": 22,
     "metadata": {},
     "output_type": "execute_result"
    }
   ],
   "source": [
    "str(dir(schema.subscription_type.fields['Trades']))"
   ]
  },
  {
   "cell_type": "code",
   "execution_count": 23,
   "id": "5d08442f",
   "metadata": {},
   "outputs": [
    {
     "data": {
      "text/plain": [
       "94"
      ]
     },
     "execution_count": 23,
     "metadata": {},
     "output_type": "execute_result"
    }
   ],
   "source": [
    "fields = schema.subscription_type.fields['Positions'].type.fields['select'].type.of_type.fields\n",
    "len(fields)"
   ]
  },
  {
   "cell_type": "code",
   "execution_count": 24,
   "id": "3b18e1c0",
   "metadata": {},
   "outputs": [
    {
     "data": {
      "text/plain": [
       "'Account'"
      ]
     },
     "execution_count": 24,
     "metadata": {},
     "output_type": "execute_result"
    }
   ],
   "source": [
    "fields['account'].type.fields['accountSubtype'].type.name\n",
    "fields['account'].type.name"
   ]
  },
  {
   "cell_type": "code",
   "execution_count": 25,
   "id": "66db0321",
   "metadata": {},
   "outputs": [
    {
     "data": {
      "text/plain": [
       "['__annotations__',\n",
       " '__class__',\n",
       " '__copy__',\n",
       " '__delattr__',\n",
       " '__dict__',\n",
       " '__dir__',\n",
       " '__doc__',\n",
       " '__eq__',\n",
       " '__format__',\n",
       " '__ge__',\n",
       " '__getattribute__',\n",
       " '__gt__',\n",
       " '__hash__',\n",
       " '__init__',\n",
       " '__init_subclass__',\n",
       " '__le__',\n",
       " '__lt__',\n",
       " '__module__',\n",
       " '__ne__',\n",
       " '__new__',\n",
       " '__reduce__',\n",
       " '__reduce_ex__',\n",
       " '__repr__',\n",
       " '__setattr__',\n",
       " '__sizeof__',\n",
       " '__str__',\n",
       " '__subclasshook__',\n",
       " '__weakref__',\n",
       " 'ast_node',\n",
       " 'description',\n",
       " 'extension_ast_nodes',\n",
       " 'extensions',\n",
       " 'name',\n",
       " 'parse_literal',\n",
       " 'parse_value',\n",
       " 'serialize',\n",
       " 'specified_by_url',\n",
       " 'to_kwargs']"
      ]
     },
     "execution_count": 25,
     "metadata": {},
     "output_type": "execute_result"
    }
   ],
   "source": [
    "dir(fields['account'].type.fields['effectiveStartTimestamp'])\n",
    "#fields['account'].type.fields\n",
    "dir(fields['account'].type.fields['effectiveStartTimestamp'].type)"
   ]
  },
  {
   "cell_type": "code",
   "execution_count": 26,
   "id": "3fd6472d",
   "metadata": {},
   "outputs": [
    {
     "data": {
      "text/plain": [
       "['accountStatus',\n",
       " 'accountSubtype',\n",
       " 'accountType',\n",
       " 'accountVersion',\n",
       " 'agreementClass',\n",
       " 'agreementCode',\n",
       " 'agreementType',\n",
       " 'agreementTypeDesc',\n",
       " 'baseAgreement',\n",
       " 'baseAgreementType',\n",
       " 'cashSwap',\n",
       " 'clearingBrokerCode',\n",
       " 'clearingBrokerName',\n",
       " 'effectiveEndTimestamp',\n",
       " 'effectiveStartTimestamp',\n",
       " 'fundFamilyCode',\n",
       " 'mainAccountCode',\n",
       " 'mainAccountId',\n",
       " 'mlpLegalEntity',\n",
       " 'reconAccountGroup',\n",
       " 'streetAccountBrokerCode',\n",
       " 'streetAccountBrokerName',\n",
       " 'streetAccountCode',\n",
       " 'streetAccountLegalEntity',\n",
       " 'streetAccountLegalEntityFundFamilyCode',\n",
       " 'streetAccountType',\n",
       " 'streetLegalEntityCode',\n",
       " 'ultimateParentCode',\n",
       " 'ultimateParentName']"
      ]
     },
     "execution_count": 26,
     "metadata": {},
     "output_type": "execute_result"
    }
   ],
   "source": [
    "sorted(fields['account'].type.fields)"
   ]
  },
  {
   "cell_type": "code",
   "execution_count": 27,
   "id": "a0e65ae7",
   "metadata": {},
   "outputs": [
    {
     "name": "stdout",
     "output_type": "stream",
     "text": [
      "{'name': 'Account', 'description': 'Represents the most current view of Appian Main Account ref data', 'extensions': {}, 'ast_node': None, 'extension_ast_nodes': (), 'fields': {'accountSubtype': <GraphQLField <GraphQLScalarType 'String'>>, 'streetAccountCode': <GraphQLField <GraphQLScalarType 'String'>>, 'effectiveEndTimestamp': <GraphQLField <GraphQLScalarType 'SqlTimestamp'>>, 'accountStatus': <GraphQLField <GraphQLScalarType 'String'>>, 'agreementCode': <GraphQLField <GraphQLScalarType 'String'>>, 'ultimateParentCode': <GraphQLField <GraphQLScalarType 'String'>>, 'streetAccountType': <GraphQLField <GraphQLScalarType 'String'>>, 'accountVersion': <GraphQLField <GraphQLScalarType 'String'>>, 'cashSwap': <GraphQLField <GraphQLScalarType 'String'>>, 'accountType': <GraphQLField <GraphQLScalarType 'String'>>, 'baseAgreementType': <GraphQLField <GraphQLScalarType 'String'>>, 'mainAccountCode': <GraphQLField <GraphQLScalarType 'String'>>, 'clearingBrokerName': <GraphQLField <GraphQLScalarType 'String'>>, 'streetAccountLegalEntityFundFamilyCode': <GraphQLField <GraphQLScalarType 'String'>>, 'mainAccountId': <GraphQLField <GraphQLScalarType 'Int'>>, 'agreementType': <GraphQLField <GraphQLScalarType 'String'>>, 'streetAccountBrokerName': <GraphQLField <GraphQLScalarType 'String'>>, 'mlpLegalEntity': <GraphQLField <GraphQLScalarType 'String'>>, 'fundFamilyCode': <GraphQLField <GraphQLScalarType 'String'>>, 'agreementClass': <GraphQLField <GraphQLScalarType 'String'>>, 'clearingBrokerCode': <GraphQLField <GraphQLScalarType 'String'>>, 'effectiveStartTimestamp': <GraphQLField <GraphQLScalarType 'SqlTimestamp'>>, 'baseAgreement': <GraphQLField <GraphQLScalarType 'String'>>, 'ultimateParentName': <GraphQLField <GraphQLScalarType 'String'>>, 'streetAccountLegalEntity': <GraphQLField <GraphQLScalarType 'String'>>, 'streetAccountBrokerCode': <GraphQLField <GraphQLScalarType 'String'>>, 'streetLegalEntityCode': <GraphQLField <GraphQLScalarType 'String'>>, 'agreementTypeDesc': <GraphQLField <GraphQLScalarType 'String'>>, 'reconAccountGroup': <GraphQLField <GraphQLScalarType 'String'>>}, 'interfaces': (), 'is_type_of': None}\n"
     ]
    }
   ],
   "source": [
    "print(fields['account'].type.to_kwargs())"
   ]
  },
  {
   "cell_type": "code",
   "execution_count": 28,
   "id": "9d3f0eab",
   "metadata": {},
   "outputs": [],
   "source": [
    "# fields = schema.subscription_type.fields['Positions'].type.fields['select'].type.of_type.fields\n",
    "trades_fields = schema.subscription_type.fields['Trades'].type.fields['select'].type.of_type.fields"
   ]
  },
  {
   "cell_type": "code",
   "execution_count": 29,
   "id": "d0acccfd",
   "metadata": {},
   "outputs": [
    {
     "data": {
      "text/plain": [
       "{'repoInterest': <GraphQLField <GraphQLScalarType 'BigDecimal'>>,\n",
       " 'lastTranStatus': <GraphQLField <GraphQLScalarType 'String'>>,\n",
       " 'debtorExternalAccount': <GraphQLField <GraphQLScalarType 'String'>>,\n",
       " 'eventRelatedTradeType': <GraphQLField <GraphQLScalarType 'String'>>,\n",
       " 'fixingRate': <GraphQLField <GraphQLScalarType 'BigDecimal'>>,\n",
       " 'effectiveEndTimestamp': <GraphQLField <GraphQLScalarType 'SqlTimestamp'>>,\n",
       " 'securityId': <GraphQLField <GraphQLScalarType 'String'>>,\n",
       " 'repoHaircutAmount': <GraphQLField <GraphQLScalarType 'BigDecimal'>>,\n",
       " 'previousTradeId': <GraphQLField <GraphQLScalarType 'BigInteger'>>,\n",
       " 'positionCurrency': <GraphQLField <GraphQLScalarType 'String'>>,\n",
       " 'securitySource': <GraphQLField <GraphQLScalarType 'String'>>,\n",
       " 'sellerName': <GraphQLField <GraphQLScalarType 'String'>>,\n",
       " 'securityDescription': <GraphQLField <GraphQLScalarType 'String'>>,\n",
       " 'netProceeds': <GraphQLField <GraphQLScalarType 'BigDecimal'>>,\n",
       " 'settlementDate': <GraphQLField <GraphQLScalarType 'Date'>>,\n",
       " 'executingBroker': <GraphQLField <GraphQLScalarType 'String'>>,\n",
       " 'buySell': <GraphQLField <GraphQLScalarType 'String'>>,\n",
       " 'ndfSettlementCurrency': <GraphQLField <GraphQLScalarType 'String'>>,\n",
       " 'eventIdVersion': <GraphQLField <GraphQLScalarType 'BigDecimal'>>,\n",
       " 'repoEndCleanPrice': <GraphQLField <GraphQLScalarType 'BigDecimal'>>,\n",
       " 'repoCurrency': <GraphQLField <GraphQLScalarType 'String'>>,\n",
       " 'totalQuantity1': <GraphQLField <GraphQLScalarType 'BigDecimal'>>,\n",
       " 'tradeDate': <GraphQLField <GraphQLScalarType 'Date'>>,\n",
       " 'microStrategy': <GraphQLField <GraphQLScalarType 'String'>>,\n",
       " 'portfolioAsOf': <GraphQLField <GraphQLObjectType 'PortfolioHistory'>>,\n",
       " 'initialMarketValue': <GraphQLField <GraphQLScalarType 'BigDecimal'>>,\n",
       " 'tradeCurrency': <GraphQLField <GraphQLScalarType 'String'>>,\n",
       " 'corporateActionEventElectionStatus': <GraphQLField <GraphQLScalarType 'String'>>,\n",
       " 'eventType': <GraphQLField <GraphQLScalarType 'String'>>,\n",
       " 'repoMaturityDate': <GraphQLField <GraphQLScalarType 'Date'>>,\n",
       " 'portfolioHistory': <GraphQLField <GraphQLObjectType 'PortfolioHistory'>>,\n",
       " 'accountId': <GraphQLField <GraphQLScalarType 'Int'>>,\n",
       " 'eventUser': <GraphQLField <GraphQLScalarType 'String'>>,\n",
       " 'lastUpdateTimestamp': <GraphQLField <GraphQLScalarType 'SqlTimestamp'>>,\n",
       " 'tradeDateTime': <GraphQLField <GraphQLScalarType 'SqlTimestamp'>>,\n",
       " 'repoAdjustedMaturityDate': <GraphQLField <GraphQLScalarType 'Date'>>,\n",
       " 'repoSettlementLocation': <GraphQLField <GraphQLScalarType 'String'>>,\n",
       " 'dirtyPrice': <GraphQLField <GraphQLScalarType 'BigDecimal'>>,\n",
       " 'repoMargin': <GraphQLField <GraphQLScalarType 'BigDecimal'>>,\n",
       " 'debtorName': <GraphQLField <GraphQLScalarType 'String'>>,\n",
       " 'price': <GraphQLField <GraphQLScalarType 'BigDecimal'>>,\n",
       " 'accountDetailHistory': <GraphQLField <GraphQLObjectType 'AccountDetailHistory'>>,\n",
       " 'repoEndYield': <GraphQLField <GraphQLScalarType 'BigDecimal'>>,\n",
       " 'repoRateType': <GraphQLField <GraphQLScalarType 'String'>>,\n",
       " 'upstreamSecurityType': <GraphQLField <GraphQLScalarType 'String'>>,\n",
       " 'tradeId': <GraphQLField <GraphQLScalarType 'Long'>>,\n",
       " 'quantity1Unit': <GraphQLField <GraphQLScalarType 'String'>>,\n",
       " 'portfolioId': <GraphQLField <GraphQLScalarType 'Int'>>,\n",
       " 'premiumRate': <GraphQLField <GraphQLScalarType 'BigDecimal'>>,\n",
       " 'upstreamPositionId': <GraphQLField <GraphQLScalarType 'String'>>,\n",
       " 'startDate': <GraphQLField <GraphQLScalarType 'Date'>>,\n",
       " 'lastModifiedAction': <GraphQLField <GraphQLScalarType 'String'>>,\n",
       " 'securityVersion': <GraphQLField <GraphQLScalarType 'String'>>,\n",
       " 'scfReason': <GraphQLField <GraphQLScalarType 'String'>>,\n",
       " 'accountDetail': <GraphQLField <GraphQLObjectType 'AccountDetail'>>,\n",
       " 'unwindRatio': <GraphQLField <GraphQLScalarType 'BigDecimal'>>,\n",
       " 'startNominal': <GraphQLField <GraphQLScalarType 'BigDecimal'>>,\n",
       " 'initialMarginCurrency': <GraphQLField <GraphQLScalarType 'String'>>,\n",
       " 'lastMarket': <GraphQLField <GraphQLScalarType 'String'>>,\n",
       " 'side': <GraphQLField <GraphQLScalarType 'String'>>,\n",
       " 'internalAccountId': <GraphQLField <GraphQLScalarType 'Int'>>,\n",
       " 'invoiceXcelId': <GraphQLField <GraphQLScalarType 'String'>>,\n",
       " 'eventQuantity1': <GraphQLField <GraphQLScalarType 'BigDecimal'>>,\n",
       " 'repoEndDirtyPrice': <GraphQLField <GraphQLScalarType 'BigDecimal'>>,\n",
       " 'quantity1': <GraphQLField <GraphQLScalarType 'BigDecimal'>>,\n",
       " 'lastUpdateUser': <GraphQLField <GraphQLScalarType 'String'>>,\n",
       " 'account': <GraphQLField <GraphQLObjectType 'Account'>>,\n",
       " 'executingBrokerCode': <GraphQLField <GraphQLScalarType 'String'>>,\n",
       " 'localDealPrice': <GraphQLField <GraphQLScalarType 'BigDecimal'>>,\n",
       " 'premiumAmount': <GraphQLField <GraphQLScalarType 'BigDecimal'>>,\n",
       " 'isStpOriginated': <GraphQLField <GraphQLScalarType 'String'>>,\n",
       " 'accountHistory': <GraphQLField <GraphQLObjectType 'AccountHistory'>>,\n",
       " 'corporateActionEventId': <GraphQLField <GraphQLScalarType 'BigInteger'>>,\n",
       " 'isTestTrade': <GraphQLField <GraphQLScalarType 'String'>>,\n",
       " 'orderOriginatorTraderId1': <GraphQLField <GraphQLScalarType 'BigInteger'>>,\n",
       " 'settlementMainAccountId': <GraphQLField <GraphQLScalarType 'Int'>>,\n",
       " 'yield': <GraphQLField <GraphQLScalarType 'BigDecimal'>>,\n",
       " 'effectiveStartTimestamp': <GraphQLField <GraphQLScalarType 'SqlTimestamp'>>,\n",
       " 'repoRate': <GraphQLField <GraphQLScalarType 'BigDecimal'>>,\n",
       " 'corporateActionEventName': <GraphQLField <GraphQLScalarType 'String'>>,\n",
       " 'isEventReversal': <GraphQLField <GraphQLScalarType 'String'>>,\n",
       " 'numFills': <GraphQLField <GraphQLScalarType 'Int'>>,\n",
       " 'repoEndNominal': <GraphQLField <GraphQLScalarType 'BigDecimal'>>,\n",
       " 'executionDatetime': <GraphQLField <GraphQLScalarType 'SqlTimestamp'>>,\n",
       " 'eventRelatedTradeId': <GraphQLField <GraphQLScalarType 'BigInteger'>>,\n",
       " 'internalTransferTransactionId': <GraphQLField <GraphQLScalarType 'String'>>,\n",
       " 'dealPrice': <GraphQLField <GraphQLScalarType 'BigDecimal'>>,\n",
       " 'repoEndAccruedCoupon': <GraphQLField <GraphQLScalarType 'BigDecimal'>>,\n",
       " 'externalSystemId': <GraphQLField <GraphQLScalarType 'String'>>,\n",
       " 'isSefListTrade': <GraphQLField <GraphQLScalarType 'String'>>,\n",
       " 'tradeReference': <GraphQLField <GraphQLScalarType 'String'>>,\n",
       " 'accountDetailAsOf': <GraphQLField <GraphQLObjectType 'AccountDetailHistory'>>,\n",
       " 'originalNotional': <GraphQLField <GraphQLScalarType 'BigDecimal'>>,\n",
       " 'eventQuantity2': <GraphQLField <GraphQLScalarType 'BigDecimal'>>,\n",
       " 'counterpartyCode': <GraphQLField <GraphQLScalarType 'String'>>,\n",
       " 'eventChangeToPositionQuantity2': <GraphQLField <GraphQLScalarType 'BigDecimal'>>,\n",
       " 'isAggregated': <GraphQLField <GraphQLScalarType 'String'>>,\n",
       " 'clearingDate': <GraphQLField <GraphQLScalarType 'Date'>>,\n",
       " 'quantity2': <GraphQLField <GraphQLScalarType 'BigDecimal'>>,\n",
       " 'eventChangeToPositionQuantity1': <GraphQLField <GraphQLScalarType 'BigDecimal'>>,\n",
       " 'eventChangeToPositionTotalQuantity1': <GraphQLField <GraphQLScalarType 'BigDecimal'>>,\n",
       " 'tranType': <GraphQLField <GraphQLScalarType 'String'>>,\n",
       " 'repoCalculationStartDate': <GraphQLField <GraphQLScalarType 'SqlTimestamp'>>,\n",
       " 'totalCommissions': <GraphQLField <GraphQLScalarType 'BigDecimal'>>,\n",
       " 'externalReference': <GraphQLField <GraphQLScalarType 'String'>>,\n",
       " 'eventPremium': <GraphQLField <GraphQLScalarType 'BigDecimal'>>,\n",
       " 'eventActionDate': <GraphQLField <GraphQLScalarType 'Date'>>,\n",
       " 'tradingVenuePlatform': <GraphQLField <GraphQLScalarType 'String'>>,\n",
       " 'date': <GraphQLField <GraphQLObjectType 'EDSDate'>>,\n",
       " 'productLevelMappingId': <GraphQLField <GraphQLScalarType 'BigInteger'>>,\n",
       " 'security': <GraphQLField <GraphQLObjectType 'Security'>>,\n",
       " 'upstreamSecurityId': <GraphQLField <GraphQLScalarType 'BigInteger'>>,\n",
       " 'repoType': <GraphQLField <GraphQLScalarType 'String'>>,\n",
       " 'collateralType': <GraphQLField <GraphQLScalarType 'String'>>,\n",
       " 'clearingHouse': <GraphQLField <GraphQLScalarType 'String'>>,\n",
       " 'eventId': <GraphQLField <GraphQLScalarType 'BigInteger'>>,\n",
       " 'orderOriginatorId': <GraphQLField <GraphQLScalarType 'String'>>,\n",
       " 'documentId': <GraphQLField <GraphQLScalarType 'String'>>,\n",
       " 'complexTradeId': <GraphQLField <GraphQLScalarType 'String'>>,\n",
       " 'originalSource': <GraphQLField <GraphQLScalarType 'String'>>,\n",
       " 'currentFlag': <GraphQLField <GraphQLScalarType 'String'>>,\n",
       " 'counterparty': <GraphQLField <GraphQLScalarType 'String'>>,\n",
       " 'endDate': <GraphQLField <GraphQLScalarType 'Date'>>,\n",
       " 'corporateActionEventOptionNumber': <GraphQLField <GraphQLScalarType 'BigInteger'>>,\n",
       " 'premiumCurrency': <GraphQLField <GraphQLScalarType 'String'>>,\n",
       " 'eventDate': <GraphQLField <GraphQLScalarType 'Date'>>,\n",
       " 'tradePositionXRate': <GraphQLField <GraphQLScalarType 'BigDecimal'>>,\n",
       " 'source': <GraphQLField <GraphQLScalarType 'String'>>,\n",
       " 'accountAsOf': <GraphQLField <GraphQLObjectType 'AccountHistory'>>,\n",
       " 'corporateActionEventSource': <GraphQLField <GraphQLScalarType 'String'>>,\n",
       " 'grossProceeds': <GraphQLField <GraphQLScalarType 'BigDecimal'>>,\n",
       " 'initialMargin': <GraphQLField <GraphQLScalarType 'BigDecimal'>>,\n",
       " 'product': <GraphQLField <GraphQLObjectType 'ProductMapUpdate'>>,\n",
       " 'startNominalCurrency': <GraphQLField <GraphQLScalarType 'String'>>,\n",
       " 'capitalFactor': <GraphQLField <GraphQLScalarType 'BigDecimal'>>,\n",
       " 'lastModifiedUser': <GraphQLField <GraphQLScalarType 'String'>>,\n",
       " 'sourceOfEventChangeToPosition': <GraphQLField <GraphQLScalarType 'String'>>,\n",
       " 'eventPremiumCurrency': <GraphQLField <GraphQLScalarType 'String'>>,\n",
       " 'lastModifiedTstamp': <GraphQLField <GraphQLScalarType 'SqlTimestamp'>>,\n",
       " 'quantity2Unit': <GraphQLField <GraphQLScalarType 'String'>>,\n",
       " 'sourceId': <GraphQLField <GraphQLScalarType 'String'>>,\n",
       " 'quantity1Remaining': <GraphQLField <GraphQLScalarType 'BigDecimal'>>,\n",
       " 'uniqueExecutionId': <GraphQLField <GraphQLScalarType 'String'>>,\n",
       " 'eventQuantity1Direction': <GraphQLField <GraphQLScalarType 'String'>>,\n",
       " 'totalFees': <GraphQLField <GraphQLScalarType 'BigDecimal'>>,\n",
       " 'securityAsOf': <GraphQLField <GraphQLObjectType 'SecurityHistory'>>,\n",
       " 'originalGroupId': <GraphQLField <GraphQLScalarType 'String'>>,\n",
       " 'externalPlatform': <GraphQLField <GraphQLScalarType 'String'>>,\n",
       " 'executingBrokerCodeId': <GraphQLField <GraphQLScalarType 'Int'>>,\n",
       " 'settlementAccount': <GraphQLField <GraphQLObjectType 'Account'>>,\n",
       " 'eventReason': <GraphQLField <GraphQLScalarType 'String'>>,\n",
       " 'isSTPTrade': <GraphQLField <GraphQLScalarType 'String'>>,\n",
       " 'premiumDate': <GraphQLField <GraphQLScalarType 'Date'>>,\n",
       " 'orderSubmitterId': <GraphQLField <GraphQLScalarType 'String'>>,\n",
       " 'tradeCaptureId': <GraphQLField <GraphQLScalarType 'String'>>,\n",
       " 'orderSubmitterTraderId1': <GraphQLField <GraphQLScalarType 'BigInteger'>>,\n",
       " 'repoStartDate': <GraphQLField <GraphQLScalarType 'Date'>>,\n",
       " 'groupIdVersion': <GraphQLField <GraphQLScalarType 'BigInteger'>>,\n",
       " 'spotForward': <GraphQLField <GraphQLScalarType 'String'>>,\n",
       " 'uid': <GraphQLField <GraphQLScalarType 'String'>>,\n",
       " 'portfolio': <GraphQLField <GraphQLObjectType 'Portfolio'>>,\n",
       " 'researchProviderCodeId': <GraphQLField <GraphQLScalarType 'Int'>>,\n",
       " 'repoMaturityStructure': <GraphQLField <GraphQLScalarType 'String'>>,\n",
       " 'isMargin': <GraphQLField <GraphQLScalarType 'String'>>,\n",
       " 'executionBroker': <GraphQLField <GraphQLObjectType 'ExecutingBrokerCode'>>,\n",
       " 'eventName': <GraphQLField <GraphQLScalarType 'String'>>,\n",
       " 'accruedInterest': <GraphQLField <GraphQLScalarType 'BigDecimal'>>,\n",
       " 'poolFactor': <GraphQLField <GraphQLScalarType 'BigDecimal'>>,\n",
       " 'repoHaircut': <GraphQLField <GraphQLScalarType 'BigDecimal'>>,\n",
       " 'totalQuantity1Unit': <GraphQLField <GraphQLScalarType 'String'>>}"
      ]
     },
     "execution_count": 29,
     "metadata": {},
     "output_type": "execute_result"
    }
   ],
   "source": [
    "trades_fields"
   ]
  },
  {
   "cell_type": "code",
   "execution_count": 30,
   "id": "1bde46d3",
   "metadata": {},
   "outputs": [
    {
     "data": {
      "text/plain": [
       "{'SettledCashPositionFinalLinkIds': <GraphQLField <GraphQLObjectType 'SettledCashPositionFinalLinkIdSubscription'>>,\n",
       " 'Cashflows': <GraphQLField <GraphQLObjectType 'CashflowSubscription'>>,\n",
       " 'AccountPortfolios': <GraphQLField <GraphQLObjectType 'AccountPortfolioSubscription'>>,\n",
       " 'PortfolioHistories': <GraphQLField <GraphQLObjectType 'PortfolioHistorySubscription'>>,\n",
       " 'SecurityHistories': <GraphQLField <GraphQLObjectType 'SecurityHistorySubscription'>>,\n",
       " 'ExecutingBrokerCodes': <GraphQLField <GraphQLObjectType 'ExecutingBrokerCodeSubscription'>>,\n",
       " 'PositionSensitivities': <GraphQLField <GraphQLObjectType 'PositionSensitivitySubscription'>>,\n",
       " 'CashPositionPrePostSweeps': <GraphQLField <GraphQLObjectType 'CashPositionPrePostSweepSubscription'>>,\n",
       " 'Portfolios': <GraphQLField <GraphQLObjectType 'PortfolioSubscription'>>,\n",
       " 'PositionPnLTags': <GraphQLField <GraphQLObjectType 'PositionPnLTagSubscription'>>,\n",
       " 'InternalTransferTransactionIds': <GraphQLField <GraphQLObjectType 'InternalTransferTransactionIdSubscription'>>,\n",
       " 'CashGroupPnLTags': <GraphQLField <GraphQLObjectType 'CashGroupPnLTagSubscription'>>,\n",
       " 'ProductMapUpdates': <GraphQLField <GraphQLObjectType 'ProductMapUpdateSubscription'>>,\n",
       " 'AccountDetailHistories': <GraphQLField <GraphQLObjectType 'AccountDetailHistorySubscription'>>,\n",
       " 'CashPositionLinkIds': <GraphQLField <GraphQLObjectType 'CashPositionLinkIdSubscription'>>,\n",
       " 'AssetServicings': <GraphQLField <GraphQLObjectType 'AssetServicingSubscription'>>,\n",
       " 'SettleDatePositions': <GraphQLField <GraphQLObjectType 'SettleDatePositionSubscription'>>,\n",
       " 'GenevaCashflows': <GraphQLField <GraphQLObjectType 'GenevaCashflowSubscription'>>,\n",
       " 'Transactions': <GraphQLField <GraphQLObjectType 'TransactionSubscription'>>,\n",
       " 'PositionAnalytics': <GraphQLField <GraphQLObjectType 'PositionAnalyticSubscription'>>,\n",
       " 'SettledCashPositionAccounts': <GraphQLField <GraphQLObjectType 'SettledCashPositionAccountSubscription'>>,\n",
       " 'Trades': <GraphQLField <GraphQLObjectType 'TradeSubscription'>>,\n",
       " 'TransactionPnLTags': <GraphQLField <GraphQLObjectType 'TransactionPnLTagSubscription'>>,\n",
       " 'CashPositionFinalLinkIds': <GraphQLField <GraphQLObjectType 'CashPositionFinalLinkIdSubscription'>>,\n",
       " 'CorporateActionElections': <GraphQLField <GraphQLObjectType 'CorporateActionElectionSubscription'>>,\n",
       " 'Accounts': <GraphQLField <GraphQLObjectType 'AccountSubscription'>>,\n",
       " 'CashPnLTags': <GraphQLField <GraphQLObjectType 'CashPnLTagSubscription'>>,\n",
       " 'FeeCommissionAttributions': <GraphQLField <GraphQLObjectType 'FeeCommissionAttributionSubscription'>>,\n",
       " 'CashPositionAccounts': <GraphQLField <GraphQLObjectType 'CashPositionAccountSubscription'>>,\n",
       " 'Products': <GraphQLField <GraphQLObjectType 'ProductSubscription'>>,\n",
       " 'RepoExposures': <GraphQLField <GraphQLObjectType 'RepoExposureSubscription'>>,\n",
       " 'CashPositionFinalAccounts': <GraphQLField <GraphQLObjectType 'CashPositionFinalAccountSubscription'>>,\n",
       " 'SettledCashPositionFinalAccounts': <GraphQLField <GraphQLObjectType 'SettledCashPositionFinalAccountSubscription'>>,\n",
       " 'PositionCashSweepMaps': <GraphQLField <GraphQLObjectType 'PositionCashSweepMapSubscription'>>,\n",
       " 'ImaginePositions': <GraphQLField <GraphQLObjectType 'ImaginePositionSubscription'>>,\n",
       " 'AccountHistories': <GraphQLField <GraphQLObjectType 'AccountHistorySubscription'>>,\n",
       " 'SettledCashPositionLinkIds': <GraphQLField <GraphQLObjectType 'SettledCashPositionLinkIdSubscription'>>,\n",
       " 'DividendAccruals': <GraphQLField <GraphQLObjectType 'DividendAccrualSubscription'>>,\n",
       " 'CorporateActions': <GraphQLField <GraphQLObjectType 'CorporateActionSubscription'>>,\n",
       " 'MurexPositions': <GraphQLField <GraphQLObjectType 'MurexPositionSubscription'>>,\n",
       " 'AccountDetails': <GraphQLField <GraphQLObjectType 'AccountDetailSubscription'>>,\n",
       " 'Securities': <GraphQLField <GraphQLObjectType 'SecuritySubscription'>>,\n",
       " 'SecurityDetails': <GraphQLField <GraphQLObjectType 'SecurityDetailSubscription'>>,\n",
       " 'Positions': <GraphQLField <GraphQLObjectType 'PositionSubscription'>>,\n",
       " 'CashPositionPrePostSweepSummaries': <GraphQLField <GraphQLObjectType 'CashPositionPrePostSweepSummarySubscription'>>,\n",
       " 'Confirmations': <GraphQLField <GraphQLObjectType 'ConfirmationSubscription'>>,\n",
       " 'GenevaTrades': <GraphQLField <GraphQLObjectType 'GenevaTradeSubscription'>>,\n",
       " 'EndurPositions': <GraphQLField <GraphQLObjectType 'EndurPositionSubscription'>>,\n",
       " 'GenevaTransactions': <GraphQLField <GraphQLObjectType 'GenevaTransactionSubscription'>>,\n",
       " 'EDSDates': <GraphQLField <GraphQLObjectType 'EDSDateSubscription'>>}"
      ]
     },
     "execution_count": 30,
     "metadata": {},
     "output_type": "execute_result"
    }
   ],
   "source": [
    "schema.subscription_type.fields"
   ]
  },
  {
   "cell_type": "code",
   "execution_count": 40,
   "id": "81a91cfe",
   "metadata": {},
   "outputs": [
    {
     "data": {
      "text/plain": [
       "[('SettledCashPositionFinalLinkIds',\n",
       "  <GraphQLField <GraphQLObjectType 'SettledCashPositionFinalLinkIdSubscription'>>),\n",
       " ('Cashflows', <GraphQLField <GraphQLObjectType 'CashflowSubscription'>>),\n",
       " ('AccountPortfolios',\n",
       "  <GraphQLField <GraphQLObjectType 'AccountPortfolioSubscription'>>),\n",
       " ('PortfolioHistories',\n",
       "  <GraphQLField <GraphQLObjectType 'PortfolioHistorySubscription'>>),\n",
       " ('SecurityHistories',\n",
       "  <GraphQLField <GraphQLObjectType 'SecurityHistorySubscription'>>),\n",
       " ('ExecutingBrokerCodes',\n",
       "  <GraphQLField <GraphQLObjectType 'ExecutingBrokerCodeSubscription'>>),\n",
       " ('PositionSensitivities',\n",
       "  <GraphQLField <GraphQLObjectType 'PositionSensitivitySubscription'>>),\n",
       " ('CashPositionPrePostSweeps',\n",
       "  <GraphQLField <GraphQLObjectType 'CashPositionPrePostSweepSubscription'>>),\n",
       " ('Portfolios', <GraphQLField <GraphQLObjectType 'PortfolioSubscription'>>),\n",
       " ('PositionPnLTags',\n",
       "  <GraphQLField <GraphQLObjectType 'PositionPnLTagSubscription'>>),\n",
       " ('InternalTransferTransactionIds',\n",
       "  <GraphQLField <GraphQLObjectType 'InternalTransferTransactionIdSubscription'>>),\n",
       " ('CashGroupPnLTags',\n",
       "  <GraphQLField <GraphQLObjectType 'CashGroupPnLTagSubscription'>>),\n",
       " ('ProductMapUpdates',\n",
       "  <GraphQLField <GraphQLObjectType 'ProductMapUpdateSubscription'>>),\n",
       " ('AccountDetailHistories',\n",
       "  <GraphQLField <GraphQLObjectType 'AccountDetailHistorySubscription'>>),\n",
       " ('CashPositionLinkIds',\n",
       "  <GraphQLField <GraphQLObjectType 'CashPositionLinkIdSubscription'>>),\n",
       " ('AssetServicings',\n",
       "  <GraphQLField <GraphQLObjectType 'AssetServicingSubscription'>>),\n",
       " ('SettleDatePositions',\n",
       "  <GraphQLField <GraphQLObjectType 'SettleDatePositionSubscription'>>),\n",
       " ('GenevaCashflows',\n",
       "  <GraphQLField <GraphQLObjectType 'GenevaCashflowSubscription'>>),\n",
       " ('Transactions',\n",
       "  <GraphQLField <GraphQLObjectType 'TransactionSubscription'>>),\n",
       " ('PositionAnalytics',\n",
       "  <GraphQLField <GraphQLObjectType 'PositionAnalyticSubscription'>>),\n",
       " ('SettledCashPositionAccounts',\n",
       "  <GraphQLField <GraphQLObjectType 'SettledCashPositionAccountSubscription'>>),\n",
       " ('Trades', <GraphQLField <GraphQLObjectType 'TradeSubscription'>>),\n",
       " ('TransactionPnLTags',\n",
       "  <GraphQLField <GraphQLObjectType 'TransactionPnLTagSubscription'>>),\n",
       " ('CashPositionFinalLinkIds',\n",
       "  <GraphQLField <GraphQLObjectType 'CashPositionFinalLinkIdSubscription'>>),\n",
       " ('CorporateActionElections',\n",
       "  <GraphQLField <GraphQLObjectType 'CorporateActionElectionSubscription'>>),\n",
       " ('Accounts', <GraphQLField <GraphQLObjectType 'AccountSubscription'>>),\n",
       " ('CashPnLTags', <GraphQLField <GraphQLObjectType 'CashPnLTagSubscription'>>),\n",
       " ('FeeCommissionAttributions',\n",
       "  <GraphQLField <GraphQLObjectType 'FeeCommissionAttributionSubscription'>>),\n",
       " ('CashPositionAccounts',\n",
       "  <GraphQLField <GraphQLObjectType 'CashPositionAccountSubscription'>>),\n",
       " ('Products', <GraphQLField <GraphQLObjectType 'ProductSubscription'>>),\n",
       " ('RepoExposures',\n",
       "  <GraphQLField <GraphQLObjectType 'RepoExposureSubscription'>>),\n",
       " ('CashPositionFinalAccounts',\n",
       "  <GraphQLField <GraphQLObjectType 'CashPositionFinalAccountSubscription'>>),\n",
       " ('SettledCashPositionFinalAccounts',\n",
       "  <GraphQLField <GraphQLObjectType 'SettledCashPositionFinalAccountSubscription'>>),\n",
       " ('PositionCashSweepMaps',\n",
       "  <GraphQLField <GraphQLObjectType 'PositionCashSweepMapSubscription'>>),\n",
       " ('ImaginePositions',\n",
       "  <GraphQLField <GraphQLObjectType 'ImaginePositionSubscription'>>),\n",
       " ('AccountHistories',\n",
       "  <GraphQLField <GraphQLObjectType 'AccountHistorySubscription'>>),\n",
       " ('SettledCashPositionLinkIds',\n",
       "  <GraphQLField <GraphQLObjectType 'SettledCashPositionLinkIdSubscription'>>),\n",
       " ('DividendAccruals',\n",
       "  <GraphQLField <GraphQLObjectType 'DividendAccrualSubscription'>>),\n",
       " ('CorporateActions',\n",
       "  <GraphQLField <GraphQLObjectType 'CorporateActionSubscription'>>),\n",
       " ('MurexPositions',\n",
       "  <GraphQLField <GraphQLObjectType 'MurexPositionSubscription'>>),\n",
       " ('AccountDetails',\n",
       "  <GraphQLField <GraphQLObjectType 'AccountDetailSubscription'>>),\n",
       " ('Securities', <GraphQLField <GraphQLObjectType 'SecuritySubscription'>>),\n",
       " ('SecurityDetails',\n",
       "  <GraphQLField <GraphQLObjectType 'SecurityDetailSubscription'>>),\n",
       " ('Positions', <GraphQLField <GraphQLObjectType 'PositionSubscription'>>),\n",
       " ('CashPositionPrePostSweepSummaries',\n",
       "  <GraphQLField <GraphQLObjectType 'CashPositionPrePostSweepSummarySubscription'>>),\n",
       " ('Confirmations',\n",
       "  <GraphQLField <GraphQLObjectType 'ConfirmationSubscription'>>),\n",
       " ('GenevaTrades',\n",
       "  <GraphQLField <GraphQLObjectType 'GenevaTradeSubscription'>>),\n",
       " ('EndurPositions',\n",
       "  <GraphQLField <GraphQLObjectType 'EndurPositionSubscription'>>),\n",
       " ('GenevaTransactions',\n",
       "  <GraphQLField <GraphQLObjectType 'GenevaTransactionSubscription'>>),\n",
       " ('EDSDates', <GraphQLField <GraphQLObjectType 'EDSDateSubscription'>>)]"
      ]
     },
     "execution_count": 40,
     "metadata": {},
     "output_type": "execute_result"
    }
   ],
   "source": [
    "sorted(schema.subscription_type.fields.items(), key=lambda x: type(x[1]).__name__)"
   ]
  },
  {
   "cell_type": "code",
   "execution_count": null,
   "id": "f69ce2a0",
   "metadata": {},
   "outputs": [
    {
     "data": {
      "text/plain": [
       "dict_items([('SettledCashPositionFinalLinkIds', <GraphQLField <GraphQLObjectType 'SettledCashPositionFinalLinkIdSubscription'>>), ('Cashflows', <GraphQLField <GraphQLObjectType 'CashflowSubscription'>>), ('AccountPortfolios', <GraphQLField <GraphQLObjectType 'AccountPortfolioSubscription'>>), ('PortfolioHistories', <GraphQLField <GraphQLObjectType 'PortfolioHistorySubscription'>>), ('SecurityHistories', <GraphQLField <GraphQLObjectType 'SecurityHistorySubscription'>>), ('ExecutingBrokerCodes', <GraphQLField <GraphQLObjectType 'ExecutingBrokerCodeSubscription'>>), ('PositionSensitivities', <GraphQLField <GraphQLObjectType 'PositionSensitivitySubscription'>>), ('CashPositionPrePostSweeps', <GraphQLField <GraphQLObjectType 'CashPositionPrePostSweepSubscription'>>), ('Portfolios', <GraphQLField <GraphQLObjectType 'PortfolioSubscription'>>), ('PositionPnLTags', <GraphQLField <GraphQLObjectType 'PositionPnLTagSubscription'>>), ('InternalTransferTransactionIds', <GraphQLField <GraphQLObjectType 'InternalTransferTransactionIdSubscription'>>), ('CashGroupPnLTags', <GraphQLField <GraphQLObjectType 'CashGroupPnLTagSubscription'>>), ('ProductMapUpdates', <GraphQLField <GraphQLObjectType 'ProductMapUpdateSubscription'>>), ('AccountDetailHistories', <GraphQLField <GraphQLObjectType 'AccountDetailHistorySubscription'>>), ('CashPositionLinkIds', <GraphQLField <GraphQLObjectType 'CashPositionLinkIdSubscription'>>), ('AssetServicings', <GraphQLField <GraphQLObjectType 'AssetServicingSubscription'>>), ('SettleDatePositions', <GraphQLField <GraphQLObjectType 'SettleDatePositionSubscription'>>), ('GenevaCashflows', <GraphQLField <GraphQLObjectType 'GenevaCashflowSubscription'>>), ('Transactions', <GraphQLField <GraphQLObjectType 'TransactionSubscription'>>), ('PositionAnalytics', <GraphQLField <GraphQLObjectType 'PositionAnalyticSubscription'>>), ('SettledCashPositionAccounts', <GraphQLField <GraphQLObjectType 'SettledCashPositionAccountSubscription'>>), ('Trades', <GraphQLField <GraphQLObjectType 'TradeSubscription'>>), ('TransactionPnLTags', <GraphQLField <GraphQLObjectType 'TransactionPnLTagSubscription'>>), ('CashPositionFinalLinkIds', <GraphQLField <GraphQLObjectType 'CashPositionFinalLinkIdSubscription'>>), ('CorporateActionElections', <GraphQLField <GraphQLObjectType 'CorporateActionElectionSubscription'>>), ('Accounts', <GraphQLField <GraphQLObjectType 'AccountSubscription'>>), ('CashPnLTags', <GraphQLField <GraphQLObjectType 'CashPnLTagSubscription'>>), ('FeeCommissionAttributions', <GraphQLField <GraphQLObjectType 'FeeCommissionAttributionSubscription'>>), ('CashPositionAccounts', <GraphQLField <GraphQLObjectType 'CashPositionAccountSubscription'>>), ('Products', <GraphQLField <GraphQLObjectType 'ProductSubscription'>>), ('RepoExposures', <GraphQLField <GraphQLObjectType 'RepoExposureSubscription'>>), ('CashPositionFinalAccounts', <GraphQLField <GraphQLObjectType 'CashPositionFinalAccountSubscription'>>), ('SettledCashPositionFinalAccounts', <GraphQLField <GraphQLObjectType 'SettledCashPositionFinalAccountSubscription'>>), ('PositionCashSweepMaps', <GraphQLField <GraphQLObjectType 'PositionCashSweepMapSubscription'>>), ('ImaginePositions', <GraphQLField <GraphQLObjectType 'ImaginePositionSubscription'>>), ('AccountHistories', <GraphQLField <GraphQLObjectType 'AccountHistorySubscription'>>), ('SettledCashPositionLinkIds', <GraphQLField <GraphQLObjectType 'SettledCashPositionLinkIdSubscription'>>), ('DividendAccruals', <GraphQLField <GraphQLObjectType 'DividendAccrualSubscription'>>), ('CorporateActions', <GraphQLField <GraphQLObjectType 'CorporateActionSubscription'>>), ('MurexPositions', <GraphQLField <GraphQLObjectType 'MurexPositionSubscription'>>), ('AccountDetails', <GraphQLField <GraphQLObjectType 'AccountDetailSubscription'>>), ('Securities', <GraphQLField <GraphQLObjectType 'SecuritySubscription'>>), ('SecurityDetails', <GraphQLField <GraphQLObjectType 'SecurityDetailSubscription'>>), ('Positions', <GraphQLField <GraphQLObjectType 'PositionSubscription'>>), ('CashPositionPrePostSweepSummaries', <GraphQLField <GraphQLObjectType 'CashPositionPrePostSweepSummarySubscription'>>), ('Confirmations', <GraphQLField <GraphQLObjectType 'ConfirmationSubscription'>>), ('GenevaTrades', <GraphQLField <GraphQLObjectType 'GenevaTradeSubscription'>>), ('EndurPositions', <GraphQLField <GraphQLObjectType 'EndurPositionSubscription'>>), ('GenevaTransactions', <GraphQLField <GraphQLObjectType 'GenevaTransactionSubscription'>>), ('EDSDates', <GraphQLField <GraphQLObjectType 'EDSDateSubscription'>>)])"
      ]
     },
     "execution_count": 39,
     "metadata": {},
     "output_type": "execute_result"
    }
   ],
   "source": [
    "]"
   ]
  }
 ],
 "metadata": {
  "kernelspec": {
   "display_name": ".venv",
   "language": "python",
   "name": "python3"
  },
  "language_info": {
   "codemirror_mode": {
    "name": "ipython",
    "version": 3
   },
   "file_extension": ".py",
   "mimetype": "text/x-python",
   "name": "python",
   "nbconvert_exporter": "python",
   "pygments_lexer": "ipython3",
   "version": "3.10.9"
  }
 },
 "nbformat": 4,
 "nbformat_minor": 5
}
